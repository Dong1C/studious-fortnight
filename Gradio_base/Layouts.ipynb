{
 "cells": [
  {
   "cell_type": "code",
   "execution_count": 1,
   "id": "ab52b274-8434-42dc-a83e-941aa101ef1e",
   "metadata": {},
   "outputs": [
    {
     "name": "stderr",
     "output_type": "stream",
     "text": [
      "E:\\CONDA\\envs\\openmmlab\\lib\\site-packages\\tqdm\\auto.py:21: TqdmWarning: IProgress not found. Please update jupyter and ipywidgets. See https://ipywidgets.readthedocs.io/en/stable/user_install.html\n",
      "  from .autonotebook import tqdm as notebook_tqdm\n"
     ]
    }
   ],
   "source": [
    "import gradio as gr"
   ]
  },
  {
   "cell_type": "code",
   "execution_count": 16,
   "id": "59c69b78-4ecf-40a3-8b8d-a142b453be15",
   "metadata": {},
   "outputs": [
    {
     "name": "stdout",
     "output_type": "stream",
     "text": [
      "Running on local URL:  http://127.0.0.1:7871\n",
      "\n",
      "To create a public link, set `share=True` in `launch()`.\n"
     ]
    },
    {
     "data": {
      "text/html": [
       "<div><iframe src=\"http://127.0.0.1:7871/\" width=\"100%\" height=\"500\" allow=\"autoplay; camera; microphone; clipboard-read; clipboard-write;\" frameborder=\"0\" allowfullscreen></iframe></div>"
      ],
      "text/plain": [
       "<IPython.core.display.HTML object>"
      ]
     },
     "metadata": {},
     "output_type": "display_data"
    },
    {
     "data": {
      "text/plain": []
     },
     "execution_count": 16,
     "metadata": {},
     "output_type": "execute_result"
    }
   ],
   "source": [
    "with gr.Blocks() as demo:\n",
    "    with gr.Tab(\"Lion\") as tab1:\n",
    "        gr.Image()\n",
    "        gr.Button(\"New Lion\")\n",
    "        num1 = gr.Number()\n",
    "        \n",
    "    with gr.Tab(\"Tiger\"):\n",
    "        gr.Image()\n",
    "        gr.Button(\"New Tiger\")\n",
    "\n",
    "    tab1.select(\n",
    "        fn=lambda x=1: x,\n",
    "        outputs=[num1]\n",
    "    )\n",
    "\n",
    "\n",
    "demo.launch()"
   ]
  },
  {
   "cell_type": "code",
   "execution_count": 19,
   "id": "064d470a-94c4-43e1-9e4b-441f4cf4efee",
   "metadata": {},
   "outputs": [
    {
     "name": "stdout",
     "output_type": "stream",
     "text": [
      "Running on local URL:  http://127.0.0.1:7874\n",
      "\n",
      "To create a public link, set `share=True` in `launch()`.\n"
     ]
    },
    {
     "data": {
      "text/html": [
       "<div><iframe src=\"http://127.0.0.1:7874/\" width=\"100%\" height=\"500\" allow=\"autoplay; camera; microphone; clipboard-read; clipboard-write;\" frameborder=\"0\" allowfullscreen></iframe></div>"
      ],
      "text/plain": [
       "<IPython.core.display.HTML object>"
      ]
     },
     "metadata": {},
     "output_type": "display_data"
    },
    {
     "data": {
      "text/plain": []
     },
     "execution_count": 19,
     "metadata": {},
     "output_type": "execute_result"
    }
   ],
   "source": [
    "with gr.Blocks() as demo:\n",
    "    with gr.Row():\n",
    "        with gr.Column(scale=1):\n",
    "            with gr.Tab(\"Lion\") as tab1:       \n",
    "                with gr.Column(scale=1):\n",
    "                    text1 = gr.Textbox()\n",
    "                    text2 = gr.Textbox()\n",
    "                with gr.Column(scale=4):\n",
    "                    btn1 = gr.Button(\"Button 1\")\n",
    "                    btn2 = gr.Button(\"Button 2\")\n",
    "                \n",
    "            with gr.Tab(\"Tiger\"):\n",
    "                with gr.Column(scale=1):\n",
    "                    text1 = gr.Textbox()\n",
    "                    text2 = gr.Textbox()\n",
    "                with gr.Column(scale=4):\n",
    "                    btn1 = gr.Button(\"Button 1\")\n",
    "                    btn2 = gr.Button(\"Button 2\")\n",
    "\n",
    "        \n",
    "        with gr.Column(scale=1):\n",
    "            with gr.Tab(\"Lion\") as tab1:       \n",
    "                with gr.Column(scale=1):\n",
    "                    text1 = gr.Textbox()\n",
    "                    text2 = gr.Textbox()\n",
    "                with gr.Column(scale=4):\n",
    "                    btn1 = gr.Button(\"Button 1\")\n",
    "                    btn2 = gr.Button(\"Button 2\")\n",
    "                \n",
    "            with gr.Tab(\"Tiger\"):\n",
    "                with gr.Column(scale=1):\n",
    "                    text1 = gr.Textbox()\n",
    "                    text2 = gr.Textbox()\n",
    "                with gr.Column(scale=4):\n",
    "                    btn1 = gr.Button(\"Button 1\")\n",
    "                    btn2 = gr.Button(\"Button 2\")\n",
    "\n",
    "\n",
    "demo.launch()"
   ]
  },
  {
   "cell_type": "code",
   "execution_count": null,
   "id": "d20f35c9-ffda-4ce0-af42-f136a6ca0f1d",
   "metadata": {},
   "outputs": [],
   "source": []
  }
 ],
 "metadata": {
  "kernelspec": {
   "display_name": "openmmlab",
   "language": "python",
   "name": "openmmlab"
  },
  "language_info": {
   "codemirror_mode": {
    "name": "ipython",
    "version": 3
   },
   "file_extension": ".py",
   "mimetype": "text/x-python",
   "name": "python",
   "nbconvert_exporter": "python",
   "pygments_lexer": "ipython3",
   "version": "3.8.18"
  }
 },
 "nbformat": 4,
 "nbformat_minor": 5
}
