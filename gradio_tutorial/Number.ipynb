{
 "cells": [
  {
   "cell_type": "code",
   "execution_count": 1,
   "id": "349ae216-631d-49e9-9ab4-5e93c41623f2",
   "metadata": {},
   "outputs": [
    {
     "name": "stderr",
     "output_type": "stream",
     "text": [
      "E:\\CONDA\\envs\\openmmlab\\lib\\site-packages\\tqdm\\auto.py:21: TqdmWarning: IProgress not found. Please update jupyter and ipywidgets. See https://ipywidgets.readthedocs.io/en/stable/user_install.html\n",
      "  from .autonotebook import tqdm as notebook_tqdm\n"
     ]
    }
   ],
   "source": [
    "# import block\n",
    "import gradio as gr\n",
    "import numpy as np\n",
    "import timeit\n",
    "import random"
   ]
  },
  {
   "cell_type": "code",
   "execution_count": 12,
   "id": "86aa31d5-00b1-4bad-be53-0060a0645b10",
   "metadata": {},
   "outputs": [
    {
     "name": "stdout",
     "output_type": "stream",
     "text": [
      "Running on local URL:  http://127.0.0.1:7861\n",
      "\n",
      "To create a public link, set `share=True` in `launch()`.\n"
     ]
    },
    {
     "data": {
      "text/html": [
       "<div><iframe src=\"http://127.0.0.1:7861/\" width=\"100%\" height=\"500\" allow=\"autoplay; camera; microphone; clipboard-read; clipboard-write;\" frameborder=\"0\" allowfullscreen></iframe></div>"
      ],
      "text/plain": [
       "<IPython.core.display.HTML object>"
      ]
     },
     "metadata": {},
     "output_type": "display_data"
    },
    {
     "data": {
      "text/plain": []
     },
     "execution_count": 12,
     "metadata": {},
     "output_type": "execute_result"
    }
   ],
   "source": [
    "\n",
    "# get_new_num = lambda num, times : num ** times \n",
    "\n",
    "# get a simple multiplier\n",
    "def get_new_num(num, times, *args):\n",
    "    return num ** times\n",
    "\n",
    "with gr.Blocks() as demo:\n",
    "    gr.Interface(\n",
    "        get_new_num,\n",
    "        [gr.Number(), \"number\"],\n",
    "        gr.Number(interactive = False)\n",
    "    )\n",
    "\n",
    "demo.launch()"
   ]
  },
  {
   "cell_type": "code",
   "execution_count": 6,
   "id": "d4e25e06-8700-4726-9cbd-2f68a96286e5",
   "metadata": {},
   "outputs": [
    {
     "name": "stdout",
     "output_type": "stream",
     "text": [
      "Running on local URL:  http://127.0.0.1:7862\n",
      "\n",
      "To create a public link, set `share=True` in `launch()`.\n"
     ]
    },
    {
     "data": {
      "text/html": [
       "<div><iframe src=\"http://127.0.0.1:7862/\" width=\"100%\" height=\"500\" allow=\"autoplay; camera; microphone; clipboard-read; clipboard-write;\" frameborder=\"0\" allowfullscreen></iframe></div>"
      ],
      "text/plain": [
       "<IPython.core.display.HTML object>"
      ]
     },
     "metadata": {},
     "output_type": "display_data"
    },
    {
     "data": {
      "text/plain": []
     },
     "execution_count": 6,
     "metadata": {},
     "output_type": "execute_result"
    }
   ],
   "source": [
    "# use the event listener to render the number in the real-time\n",
    "# get closure2\n",
    "def closure2():\n",
    "    base = 0\n",
    "    def func():\n",
    "        nonlocal base\n",
    "        base += 1\n",
    "        return base\n",
    "    return func\n",
    "\n",
    "# get blocks\n",
    "with gr.Blocks() as demo2:\n",
    "    \n",
    "    # add two number into one row \n",
    "    with gr.Row():\n",
    "        ans = gr.Number(label=\"answer\")\n",
    "        [gr.Number(\n",
    "            value=closure2(), \n",
    "            label=f\"num{i}\", \n",
    "            every=random.randint(2, 10)\n",
    "        ).change(\n",
    "            fn = lambda x: x + 1,\n",
    "            inputs=[ans],\n",
    "            outputs=[ans],\n",
    "            concurrency_limit=5\n",
    "        ) for i in range(5)]\n",
    "\n",
    "    \n",
    "demo2.launch()"
   ]
  },
  {
   "cell_type": "code",
   "execution_count": 3,
   "id": "a1a0606b-a611-45b6-8bbd-0b82aa9e7ea8",
   "metadata": {},
   "outputs": [
    {
     "name": "stdout",
     "output_type": "stream",
     "text": [
      "Running on local URL:  http://127.0.0.1:7861\n",
      "\n",
      "To create a public link, set `share=True` in `launch()`.\n"
     ]
    },
    {
     "data": {
      "text/html": [
       "<div><iframe src=\"http://127.0.0.1:7861/\" width=\"100%\" height=\"500\" allow=\"autoplay; camera; microphone; clipboard-read; clipboard-write;\" frameborder=\"0\" allowfullscreen></iframe></div>"
      ],
      "text/plain": [
       "<IPython.core.display.HTML object>"
      ]
     },
     "metadata": {},
     "output_type": "display_data"
    },
    {
     "data": {
      "text/plain": []
     },
     "execution_count": 3,
     "metadata": {},
     "output_type": "execute_result"
    }
   ],
   "source": [
    "# use the event listener to render the number in the real-time\n",
    "# a new closure to generate the number auto-incremently\n",
    "def closure():\n",
    "    base = 10\n",
    "    def func():\n",
    "        nonlocal base\n",
    "        base += 1\n",
    "        return base\n",
    "    return func\n",
    "\n",
    "with gr.Blocks() as demo3:\n",
    "\n",
    "    num_gen = closure()\n",
    "    # add two number into one row \n",
    "    with gr.Row():\n",
    "        # make the function to run every 0.1 seconds and we should use the callable to generate new numbers\n",
    "        num = gr.Number(value=num_gen, label=\"trigger\", every=1) \n",
    "        ans = gr.Number(label=\"answer\", interactive=False) \n",
    "\n",
    "\n",
    "    # change, input, submit, focus\n",
    "    # a new event where num's change will trigger the ouputs become the power of inputs\n",
    "    num.change(\n",
    "        fn = lambda x: x ** 2,\n",
    "        inputs=[num],\n",
    "        outputs=[ans]\n",
    "    )\n",
    "\n",
    "    # gr.Interface(\n",
    "    #     lambda x : x,\n",
    "    #     inputs=[num],\n",
    "    #     outputs=[ans]\n",
    "    # )\n",
    "\n",
    "demo3.launch()"
   ]
  },
  {
   "cell_type": "code",
   "execution_count": null,
   "id": "9b901d28-2ba2-4310-951b-240a99d0ca0f",
   "metadata": {},
   "outputs": [],
   "source": []
  }
 ],
 "metadata": {
  "kernelspec": {
   "display_name": "openmmlab",
   "language": "python",
   "name": "openmmlab"
  },
  "language_info": {
   "codemirror_mode": {
    "name": "ipython",
    "version": 3
   },
   "file_extension": ".py",
   "mimetype": "text/x-python",
   "name": "python",
   "nbconvert_exporter": "python",
   "pygments_lexer": "ipython3",
   "version": "3.8.18"
  }
 },
 "nbformat": 4,
 "nbformat_minor": 5
}
