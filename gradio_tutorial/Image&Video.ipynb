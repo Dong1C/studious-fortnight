{
 "cells": [
  {
   "cell_type": "code",
   "execution_count": null,
   "id": "3c750826-80b1-4da0-8638-12bb52be5970",
   "metadata": {},
   "outputs": [],
   "source": [
    "import gradio as gr"
   ]
  },
  {
   "cell_type": "markdown",
   "id": "f90bb2b7-1378-4da9-878a-6b9643a61d63",
   "metadata": {},
   "source": [
    "## image_mode\n",
    "Literal[('1', 'L', 'P', 'RGB', 'RGBA', 'CMYK', 'YCbCr', 'LAB', 'HSV', 'I', 'F')]\n",
    "\n",
    "default: \"RGB\"\n",
    "\n",
    "\"RGB\" if color, or \"L\" if black and white. See https://pillow.readthedocs.io/en/stable/handbook/concepts.html for other supported image modes and their meaning."
   ]
  },
  {
   "cell_type": "code",
   "execution_count": null,
   "id": "aca1bdce-92e9-4ce0-8a5f-7b27b69fc868",
   "metadata": {},
   "outputs": [],
   "source": [
    "with gr.Blocks() as demo:\n",
    "    gr.Image(\n",
    "        label=\"input source\",\n",
    "        sources=[\"upload\", \"webcam\"],\n",
    "        show_download_button=True\n",
    "    )\n",
    "    gr.Video(\n",
    "        format='mp4',\n",
    "        include_audio=False\n",
    "    )\n",
    "    \n",
    "demo.launch()"
   ]
  },
  {
   "cell_type": "code",
   "execution_count": null,
   "id": "4ef18cf5-24df-4cca-8428-576a3b29dd51",
   "metadata": {},
   "outputs": [],
   "source": []
  }
 ],
 "metadata": {
  "kernelspec": {
   "display_name": "openmmlab",
   "language": "python",
   "name": "python3"
  },
  "language_info": {
   "codemirror_mode": {
    "name": "ipython",
    "version": 3
   },
   "file_extension": ".py",
   "mimetype": "text/x-python",
   "name": "python",
   "nbconvert_exporter": "python",
   "pygments_lexer": "ipython3",
   "version": "3.7.16"
  }
 },
 "nbformat": 4,
 "nbformat_minor": 5
}
