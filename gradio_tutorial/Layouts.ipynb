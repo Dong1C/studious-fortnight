{
 "cells": [
  {
   "cell_type": "code",
   "execution_count": null,
   "id": "ab52b274-8434-42dc-a83e-941aa101ef1e",
   "metadata": {},
   "outputs": [],
   "source": [
    "import gradio as gr"
   ]
  },
  {
   "cell_type": "code",
   "execution_count": null,
   "id": "59c69b78-4ecf-40a3-8b8d-a142b453be15",
   "metadata": {},
   "outputs": [],
   "source": [
    "with gr.Blocks() as demo:\n",
    "    with gr.Tab(\"Lion\") as tab1:\n",
    "        gr.Image()\n",
    "        gr.Button(\"New Lion\")\n",
    "        num1 = gr.Number()\n",
    "        \n",
    "    with gr.Tab(\"Tiger\"):\n",
    "        gr.Image()\n",
    "        gr.Button(\"New Tiger\")\n",
    "\n",
    "    tab1.select(\n",
    "        fn=lambda x=1: x,\n",
    "        outputs=[num1]\n",
    "    )\n",
    "\n",
    "\n",
    "demo.launch()"
   ]
  },
  {
   "cell_type": "code",
   "execution_count": null,
   "id": "064d470a-94c4-43e1-9e4b-441f4cf4efee",
   "metadata": {},
   "outputs": [],
   "source": [
    "with gr.Blocks() as demo:\n",
    "    with gr.Row():\n",
    "        with gr.Column(scale=1):\n",
    "            with gr.Tab(\"Lion\") as tab1:       \n",
    "                with gr.Column(scale=1):\n",
    "                    text1 = gr.Textbox()\n",
    "                    text2 = gr.Textbox()\n",
    "                with gr.Column(scale=4):\n",
    "                    btn1 = gr.Button(\"Button 1\")\n",
    "                    btn2 = gr.Button(\"Button 2\")\n",
    "                \n",
    "            with gr.Tab(\"Tiger\"):\n",
    "                with gr.Column(scale=1):\n",
    "                    text1 = gr.Textbox()\n",
    "                    text2 = gr.Textbox()\n",
    "                with gr.Column(scale=4):\n",
    "                    btn1 = gr.Button(\"Button 1\")\n",
    "                    btn2 = gr.Button(\"Button 2\")\n",
    "\n",
    "        \n",
    "        with gr.Column(scale=1):\n",
    "            with gr.Tab(\"Lion\") as tab1:       \n",
    "                with gr.Column(scale=1):\n",
    "                    text1 = gr.Textbox()\n",
    "                    text2 = gr.Textbox()\n",
    "                with gr.Column(scale=4):\n",
    "                    btn1 = gr.Button(\"Button 1\")\n",
    "                    btn2 = gr.Button(\"Button 2\")\n",
    "                \n",
    "            with gr.Tab(\"Tiger\"):\n",
    "                with gr.Column(scale=1):\n",
    "                    text1 = gr.Textbox()\n",
    "                    text2 = gr.Textbox()\n",
    "                with gr.Column(scale=4):\n",
    "                    btn1 = gr.Button(\"Button 1\")\n",
    "                    btn2 = gr.Button(\"Button 2\")\n",
    "\n",
    "\n",
    "demo.launch()"
   ]
  },
  {
   "cell_type": "code",
   "execution_count": null,
   "id": "d20f35c9-ffda-4ce0-af42-f136a6ca0f1d",
   "metadata": {},
   "outputs": [],
   "source": []
  }
 ],
 "metadata": {
  "kernelspec": {
   "display_name": "openmmlab",
   "language": "python",
   "name": "openmmlab"
  },
  "language_info": {
   "codemirror_mode": {
    "name": "ipython",
    "version": 3
   },
   "file_extension": ".py",
   "mimetype": "text/x-python",
   "name": "python",
   "nbconvert_exporter": "python",
   "pygments_lexer": "ipython3",
   "version": "3.8.18"
  }
 },
 "nbformat": 4,
 "nbformat_minor": 5
}
