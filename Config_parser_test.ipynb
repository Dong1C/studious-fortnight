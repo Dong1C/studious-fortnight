{
 "cells": [
  {
   "cell_type": "code",
   "execution_count": 2,
   "metadata": {},
   "outputs": [],
   "source": [
    "import gradio as gr\n",
    "import mmcv\n",
    "import os\n",
    "from utils import list_from_folder, inference_plot, get_detector"
   ]
  },
  {
   "cell_type": "code",
   "execution_count": 13,
   "metadata": {},
   "outputs": [
    {
     "name": "stdout",
     "output_type": "stream",
     "text": [
      "baselines 8\n",
      "cfa 3\n",
      "convnext 2\n",
      "csl 1\n",
      "dcfl 7\n",
      "gliding_vertex 1\n",
      "gwd 3\n",
      "g_reppoints 1\n",
      "kfiou 15\n",
      "kld 11\n",
      "model_customized 8\n",
      "oriented_rcnn 5\n",
      "oriented_reppoints 3\n",
      "r3det 4\n",
      "redet 6\n",
      "roi_trans 7\n",
      "rotated_atss 4\n",
      "rotated_faster_rcnn 1\n",
      "rotated_fcos 4\n",
      "rotated_reppoints 4\n",
      "rotated_retinanet 13\n",
      "s2anet 4\n",
      "sasm_reppoints 1\n",
      "_base_ 3\n"
     ]
    }
   ],
   "source": [
    "# 1. get all the configs from the config directory\n",
    "config_prefix = './configs'\n",
    "models = list_from_folder(config_prefix, mode='d', full_path=True)\n",
    "configs = {model.split('\\\\')[-1] : \n",
    "           [i for i in list_from_folder(model, mode='f', full_path=True) if i.endswith('.py')]\n",
    "           for model in models}\n",
    "\n",
    "# 2. mmcv.Config.fromfile to transfer the configs file\n",
    "for i, j in configs.items():\n",
    "    print(i, len(j))"
   ]
  },
  {
   "cell_type": "code",
   "execution_count": 23,
   "metadata": {},
   "outputs": [
    {
     "name": "stdout",
     "output_type": "stream",
     "text": [
      "oriented_rcnn_r50_fpn_1x_dota_le90 Config (path: ./configs\\oriented_rcnn\\oriented_rcnn_r50_fpn_1x_dota_le90.py): {'dataset_type': 'DOTADataset', 'data_root': 'data/split_ss_dota/', 'img_norm_cfg': {'mean': [123.675, 116.28, 103.53], 'std': [58.395, 57.12, 57.375], 'to_rgb': True}, 'train_pipeline': [{'type': 'LoadImageFromFile'}, {'type': 'LoadAnnotations', 'with_bbox': True}, {'type': 'RResize', 'img_scale': (1024, 1024)}, {'type': 'RRandomFlip', 'flip_ratio': [0.25, 0.25, 0.25], 'direction': ['horizontal', 'vertical', 'diagonal'], 'version': 'le90'}, {'type': 'Normalize', 'mean': [123.675, 116.28, 103.53], 'std': [58.395, 57.12, 57.375], 'to_rgb': True}, {'type': 'Pad', 'size_divisor': 32}, {'type': 'DefaultFormatBundle'}, {'type': 'Collect', 'keys': ['img', 'gt_bboxes', 'gt_labels']}], 'test_pipeline': [{'type': 'LoadImageFromFile'}, {'type': 'MultiScaleFlipAug', 'img_scale': (1024, 1024), 'flip': False, 'transforms': [{'type': 'RResize'}, {'type': 'Normalize', 'mean': [123.675, 116.28, 103.53], 'std': [58.395, 57.12, 57.375], 'to_rgb': True}, {'type': 'Pad', 'size_divisor': 32}, {'type': 'DefaultFormatBundle'}, {'type': 'Collect', 'keys': ['img']}]}], 'data': {'samples_per_gpu': 2, 'workers_per_gpu': 2, 'train': {'type': 'DOTADataset', 'ann_file': 'data/split_ss_dota/trainval/annfiles/', 'img_prefix': 'data/split_ss_dota/trainval/images/', 'pipeline': [{'type': 'LoadImageFromFile'}, {'type': 'LoadAnnotations', 'with_bbox': True}, {'type': 'RResize', 'img_scale': (1024, 1024)}, {'type': 'RRandomFlip', 'flip_ratio': [0.25, 0.25, 0.25], 'direction': ['horizontal', 'vertical', 'diagonal'], 'version': 'le90'}, {'type': 'Normalize', 'mean': [123.675, 116.28, 103.53], 'std': [58.395, 57.12, 57.375], 'to_rgb': True}, {'type': 'Pad', 'size_divisor': 32}, {'type': 'DefaultFormatBundle'}, {'type': 'Collect', 'keys': ['img', 'gt_bboxes', 'gt_labels']}], 'version': 'le90'}, 'val': {'type': 'DOTADataset', 'ann_file': 'data/split_ss_dota/trainval/annfiles/', 'img_prefix': 'data/split_ss_dota/trainval/images/', 'pipeline': [{'type': 'LoadImageFromFile'}, {'type': 'MultiScaleFlipAug', 'img_scale': (1024, 1024), 'flip': False, 'transforms': [{'type': 'RResize'}, {'type': 'Normalize', 'mean': [123.675, 116.28, 103.53], 'std': [58.395, 57.12, 57.375], 'to_rgb': True}, {'type': 'Pad', 'size_divisor': 32}, {'type': 'DefaultFormatBundle'}, {'type': 'Collect', 'keys': ['img']}]}], 'version': 'le90'}, 'test': {'type': 'DOTADataset', 'ann_file': 'data/split_ss_dota/test/images/', 'img_prefix': 'data/split_ss_dota/test/images/', 'pipeline': [{'type': 'LoadImageFromFile'}, {'type': 'MultiScaleFlipAug', 'img_scale': (1024, 1024), 'flip': False, 'transforms': [{'type': 'RResize'}, {'type': 'Normalize', 'mean': [123.675, 116.28, 103.53], 'std': [58.395, 57.12, 57.375], 'to_rgb': True}, {'type': 'Pad', 'size_divisor': 32}, {'type': 'DefaultFormatBundle'}, {'type': 'Collect', 'keys': ['img']}]}], 'version': 'le90'}}, 'evaluation': {'interval': 4, 'metric': 'mAP'}, 'optimizer': {'type': 'SGD', 'lr': 0.005, 'momentum': 0.9, 'weight_decay': 0.0001}, 'optimizer_config': {'grad_clip': {'max_norm': 35, 'norm_type': 2}}, 'lr_config': {'policy': 'step', 'warmup': 'linear', 'warmup_iters': 500, 'warmup_ratio': 0.3333333333333333, 'step': [8, 11]}, 'runner': {'type': 'EpochBasedRunner', 'max_epochs': 12}, 'checkpoint_config': {'interval': 4}, 'log_config': {'interval': 50, 'hooks': [{'type': 'TextLoggerHook'}]}, 'dist_params': {'backend': 'nccl'}, 'log_level': 'INFO', 'load_from': None, 'resume_from': None, 'workflow': [('train', 1)], 'opencv_num_threads': 0, 'mp_start_method': 'fork', 'angle_version': 'le90', 'model': {'type': 'OrientedRCNN', 'backbone': {'type': 'ResNet', 'depth': 50, 'num_stages': 4, 'out_indices': (0, 1, 2, 3), 'frozen_stages': 1, 'norm_cfg': {'type': 'BN', 'requires_grad': True}, 'norm_eval': True, 'style': 'pytorch', 'init_cfg': {'type': 'Pretrained', 'checkpoint': 'torchvision://resnet50'}}, 'neck': {'type': 'FPN', 'in_channels': [256, 512, 1024, 2048], 'out_channels': 256, 'num_outs': 5}, 'rpn_head': {'type': 'OrientedRPNHead', 'in_channels': 256, 'feat_channels': 256, 'version': 'le90', 'anchor_generator': {'type': 'AnchorGenerator', 'scales': [8], 'ratios': [0.5, 1.0, 2.0], 'strides': [4, 8, 16, 32, 64]}, 'bbox_coder': {'type': 'MidpointOffsetCoder', 'angle_range': 'le90', 'target_means': [0.0, 0.0, 0.0, 0.0, 0.0, 0.0], 'target_stds': [1.0, 1.0, 1.0, 1.0, 0.5, 0.5]}, 'loss_cls': {'type': 'CrossEntropyLoss', 'use_sigmoid': True, 'loss_weight': 1.0}, 'loss_bbox': {'type': 'SmoothL1Loss', 'beta': 0.1111111111111111, 'loss_weight': 1.0}}, 'roi_head': {'type': 'OrientedStandardRoIHead', 'bbox_roi_extractor': {'type': 'RotatedSingleRoIExtractor', 'roi_layer': {'type': 'RoIAlignRotated', 'out_size': 7, 'sample_num': 2, 'clockwise': True}, 'out_channels': 256, 'featmap_strides': [4, 8, 16, 32]}, 'bbox_head': {'type': 'RotatedShared2FCBBoxHead', 'in_channels': 256, 'fc_out_channels': 1024, 'roi_feat_size': 7, 'num_classes': 15, 'bbox_coder': {'type': 'DeltaXYWHAOBBoxCoder', 'angle_range': 'le90', 'norm_factor': None, 'edge_swap': True, 'proj_xy': True, 'target_means': (0.0, 0.0, 0.0, 0.0, 0.0), 'target_stds': (0.1, 0.1, 0.2, 0.2, 0.1)}, 'reg_class_agnostic': True, 'loss_cls': {'type': 'CrossEntropyLoss', 'use_sigmoid': False, 'loss_weight': 1.0}, 'loss_bbox': {'type': 'SmoothL1Loss', 'beta': 1.0, 'loss_weight': 1.0}}}, 'train_cfg': {'rpn': {'assigner': {'type': 'MaxIoUAssigner', 'pos_iou_thr': 0.7, 'neg_iou_thr': 0.3, 'min_pos_iou': 0.3, 'match_low_quality': True, 'ignore_iof_thr': -1}, 'sampler': {'type': 'RandomSampler', 'num': 256, 'pos_fraction': 0.5, 'neg_pos_ub': -1, 'add_gt_as_proposals': False}, 'allowed_border': 0, 'pos_weight': -1, 'debug': False}, 'rpn_proposal': {'nms_pre': 2000, 'max_per_img': 2000, 'nms': {'type': 'nms', 'iou_threshold': 0.8}, 'min_bbox_size': 0}, 'rcnn': {'assigner': {'type': 'MaxIoUAssigner', 'pos_iou_thr': 0.5, 'neg_iou_thr': 0.5, 'min_pos_iou': 0.5, 'match_low_quality': False, 'iou_calculator': {'type': 'RBboxOverlaps2D'}, 'ignore_iof_thr': -1}, 'sampler': {'type': 'RRandomSampler', 'num': 512, 'pos_fraction': 0.25, 'neg_pos_ub': -1, 'add_gt_as_proposals': True}, 'pos_weight': -1, 'debug': False}}, 'test_cfg': {'rpn': {'nms_pre': 2000, 'max_per_img': 2000, 'nms': {'type': 'nms', 'iou_threshold': 0.8}, 'min_bbox_size': 0}, 'rcnn': {'nms_pre': 2000, 'min_bbox_size': 0, 'score_thr': 0.05, 'nms': {'iou_thr': 0.1}, 'max_per_img': 2000}}}}\n",
      "oriented_rcnn_r50_fpn_6x_hrsid_le90 Config (path: ./configs\\oriented_rcnn\\oriented_rcnn_r50_fpn_6x_hrsid_le90.py): {'dataset_type': 'SARDataset', 'data_root': 'data/hrsid/', 'img_norm_cfg': {'mean': [21.55, 21.55, 21.55], 'std': [24.42, 24.42, 24.42], 'to_rgb': True}, 'train_pipeline': [{'type': 'LoadImageFromFile'}, {'type': 'LoadAnnotations', 'with_bbox': True}, {'type': 'RResize', 'img_scale': (608, 608)}, {'type': 'RRandomFlip', 'flip_ratio': [0.25, 0.25, 0.25], 'direction': ['horizontal', 'vertical', 'diagonal'], 'version': 'le90'}, {'type': 'Normalize', 'mean': [21.55, 21.55, 21.55], 'std': [24.42, 24.42, 24.42], 'to_rgb': True}, {'type': 'Pad', 'size_divisor': 32}, {'type': 'DefaultFormatBundle'}, {'type': 'Collect', 'keys': ['img', 'gt_bboxes', 'gt_labels']}], 'test_pipeline': [{'type': 'LoadImageFromFile'}, {'type': 'MultiScaleFlipAug', 'img_scale': (800, 800), 'flip': False, 'transforms': [{'type': 'RResize'}, {'type': 'Normalize', 'mean': [123.675, 116.28, 103.53], 'std': [58.395, 57.12, 57.375], 'to_rgb': True}, {'type': 'Pad', 'size_divisor': 32}, {'type': 'DefaultFormatBundle'}, {'type': 'Collect', 'keys': ['img']}]}], 'data': {'samples_per_gpu': 2, 'workers_per_gpu': 2, 'train': {'type': 'SARDataset', 'ann_file': 'data/hrsid/trainsplit/labelTxt/', 'img_prefix': 'data/hrsid/trainsplit/images/', 'pipeline': [{'type': 'LoadImageFromFile'}, {'type': 'LoadAnnotations', 'with_bbox': True}, {'type': 'RResize', 'img_scale': (608, 608)}, {'type': 'RRandomFlip', 'flip_ratio': [0.25, 0.25, 0.25], 'direction': ['horizontal', 'vertical', 'diagonal'], 'version': 'le90'}, {'type': 'Normalize', 'mean': [21.55, 21.55, 21.55], 'std': [24.42, 24.42, 24.42], 'to_rgb': True}, {'type': 'Pad', 'size_divisor': 32}, {'type': 'DefaultFormatBundle'}, {'type': 'Collect', 'keys': ['img', 'gt_bboxes', 'gt_labels']}], 'version': 'le90'}, 'val': {'type': 'SARDataset', 'ann_file': 'data/hrsid/testsplit/inshore/labelTxt/', 'img_prefix': 'data/hrsid/testsplit/inshore/images/', 'pipeline': [{'type': 'LoadImageFromFile'}, {'type': 'MultiScaleFlipAug', 'img_scale': (800, 800), 'flip': False, 'transforms': [{'type': 'RResize'}, {'type': 'Normalize', 'mean': [123.675, 116.28, 103.53], 'std': [58.395, 57.12, 57.375], 'to_rgb': True}, {'type': 'Pad', 'size_divisor': 32}, {'type': 'DefaultFormatBundle'}, {'type': 'Collect', 'keys': ['img']}]}], 'version': 'le90'}, 'test': {'type': 'SARDataset', 'ann_file': 'data/hrsid/testsplit/offshore/labelTxt/', 'img_prefix': 'data/hrsid/testsplit/offshore/images/', 'pipeline': [{'type': 'LoadImageFromFile'}, {'type': 'MultiScaleFlipAug', 'img_scale': (800, 800), 'flip': False, 'transforms': [{'type': 'RResize'}, {'type': 'Normalize', 'mean': [123.675, 116.28, 103.53], 'std': [58.395, 57.12, 57.375], 'to_rgb': True}, {'type': 'Pad', 'size_divisor': 32}, {'type': 'DefaultFormatBundle'}, {'type': 'Collect', 'keys': ['img']}]}], 'version': 'le90'}}, 'evaluation': {'interval': 72, 'metric': 'mAP'}, 'optimizer': {'type': 'SGD', 'lr': 0.005, 'momentum': 0.9, 'weight_decay': 0.0001}, 'optimizer_config': {'grad_clip': {'max_norm': 35, 'norm_type': 2}}, 'lr_config': {'policy': 'step', 'warmup': 'linear', 'warmup_iters': 500, 'warmup_ratio': 0.3333333333333333, 'step': [65, 71]}, 'runner': {'type': 'EpochBasedRunner', 'max_epochs': 72}, 'checkpoint_config': {'interval': 12}, 'log_config': {'interval': 50, 'hooks': [{'type': 'TextLoggerHook'}]}, 'dist_params': {'backend': 'nccl'}, 'log_level': 'INFO', 'load_from': None, 'resume_from': None, 'workflow': [('train', 1)], 'opencv_num_threads': 0, 'mp_start_method': 'fork', 'angle_version': 'le90', 'model': {'type': 'OrientedRCNN', 'backbone': {'type': 'ResNet', 'depth': 50, 'num_stages': 4, 'out_indices': (0, 1, 2, 3), 'frozen_stages': -1, 'norm_cfg': {'type': 'BN', 'requires_grad': True}, 'norm_eval': True, 'style': 'pytorch', 'init_cfg': {'type': 'Pretrained', 'checkpoint': 'torchvision://resnet50'}}, 'neck': {'type': 'FPN', 'in_channels': [256, 512, 1024, 2048], 'out_channels': 256, 'num_outs': 5}, 'rpn_head': {'type': 'OrientedRPNHead', 'in_channels': 256, 'feat_channels': 256, 'version': 'le90', 'anchor_generator': {'type': 'AnchorGenerator', 'scales': [8], 'ratios': [0.5, 1.0, 2.0], 'strides': [4, 8, 16, 32, 64]}, 'bbox_coder': {'type': 'MidpointOffsetCoder', 'angle_range': 'le90', 'target_means': [0.0, 0.0, 0.0, 0.0, 0.0, 0.0], 'target_stds': [1.0, 1.0, 1.0, 1.0, 0.5, 0.5]}, 'loss_cls': {'type': 'CrossEntropyLoss', 'use_sigmoid': True, 'loss_weight': 1.0}, 'loss_bbox': {'type': 'SmoothL1Loss', 'beta': 0.1111111111111111, 'loss_weight': 1.0}}, 'roi_head': {'type': 'OrientedStandardRoIHead', 'bbox_roi_extractor': {'type': 'RotatedSingleRoIExtractor', 'roi_layer': {'type': 'RoIAlignRotated', 'out_size': 7, 'sample_num': 2, 'clockwise': True}, 'out_channels': 256, 'featmap_strides': [4, 8, 16, 32]}, 'bbox_head': {'type': 'RotatedShared2FCBBoxHead', 'in_channels': 256, 'fc_out_channels': 1024, 'roi_feat_size': 7, 'num_classes': 1, 'bbox_coder': {'type': 'DeltaXYWHAOBBoxCoder', 'angle_range': 'le90', 'norm_factor': None, 'edge_swap': True, 'proj_xy': True, 'target_means': (0.0, 0.0, 0.0, 0.0, 0.0), 'target_stds': (0.1, 0.1, 0.2, 0.2, 0.1)}, 'reg_class_agnostic': True, 'loss_cls': {'type': 'CrossEntropyLoss', 'use_sigmoid': False, 'loss_weight': 1.0}, 'loss_bbox': {'type': 'SmoothL1Loss', 'beta': 1.0, 'loss_weight': 1.0}}}, 'train_cfg': {'rpn': {'assigner': {'type': 'MaxIoUAssigner', 'pos_iou_thr': 0.7, 'neg_iou_thr': 0.3, 'min_pos_iou': 0.3, 'match_low_quality': True, 'ignore_iof_thr': -1}, 'sampler': {'type': 'RandomSampler', 'num': 256, 'pos_fraction': 0.5, 'neg_pos_ub': -1, 'add_gt_as_proposals': False}, 'allowed_border': 0, 'pos_weight': -1, 'debug': False}, 'rpn_proposal': {'nms_pre': 2000, 'max_per_img': 2000, 'nms': {'type': 'nms', 'iou_threshold': 0.8}, 'min_bbox_size': 0}, 'rcnn': {'assigner': {'type': 'MaxIoUAssigner', 'pos_iou_thr': 0.5, 'neg_iou_thr': 0.5, 'min_pos_iou': 0.5, 'match_low_quality': False, 'iou_calculator': {'type': 'RBboxOverlaps2D'}, 'ignore_iof_thr': -1}, 'sampler': {'type': 'RRandomSampler', 'num': 512, 'pos_fraction': 0.25, 'neg_pos_ub': -1, 'add_gt_as_proposals': True}, 'pos_weight': -1, 'debug': False}}, 'test_cfg': {'rpn': {'nms_pre': 2000, 'max_per_img': 2000, 'nms': {'type': 'nms', 'iou_threshold': 0.8}, 'min_bbox_size': 0}, 'rcnn': {'nms_pre': 2000, 'min_bbox_size': 0, 'score_thr': 0.05, 'nms': {'iou_thr': 0.1}, 'max_per_img': 2000}}}}\n",
      "oriented_rcnn_r50_fpn_6x_ssdd_le90 Config (path: ./configs\\oriented_rcnn\\oriented_rcnn_r50_fpn_6x_ssdd_le90.py): {'dataset_type': 'SARDataset', 'data_root': 'data/ssdd/', 'img_norm_cfg': {'mean': [21.55, 21.55, 21.55], 'std': [24.42, 24.42, 24.42], 'to_rgb': True}, 'train_pipeline': [{'type': 'LoadImageFromFile'}, {'type': 'LoadAnnotations', 'with_bbox': True}, {'type': 'RResize', 'img_scale': (608, 608)}, {'type': 'RRandomFlip', 'flip_ratio': [0.25, 0.25, 0.25], 'direction': ['horizontal', 'vertical', 'diagonal'], 'version': 'le90'}, {'type': 'Normalize', 'mean': [21.55, 21.55, 21.55], 'std': [24.42, 24.42, 24.42], 'to_rgb': True}, {'type': 'Pad', 'size_divisor': 32}, {'type': 'DefaultFormatBundle'}, {'type': 'Collect', 'keys': ['img', 'gt_bboxes', 'gt_labels']}], 'test_pipeline': [{'type': 'LoadImageFromFile'}, {'type': 'MultiScaleFlipAug', 'img_scale': (608, 608), 'flip': False, 'transforms': [{'type': 'RResize'}, {'type': 'Normalize', 'mean': [123.675, 116.28, 103.53], 'std': [58.395, 57.12, 57.375], 'to_rgb': True}, {'type': 'Pad', 'size_divisor': 32}, {'type': 'DefaultFormatBundle'}, {'type': 'Collect', 'keys': ['img']}]}], 'data': {'samples_per_gpu': 2, 'workers_per_gpu': 2, 'train': {'type': 'SARDataset', 'ann_file': 'data/ssdd/train/labelTxt/', 'img_prefix': 'data/ssdd/train/images/', 'pipeline': [{'type': 'LoadImageFromFile'}, {'type': 'LoadAnnotations', 'with_bbox': True}, {'type': 'RResize', 'img_scale': (608, 608)}, {'type': 'RRandomFlip', 'flip_ratio': [0.25, 0.25, 0.25], 'direction': ['horizontal', 'vertical', 'diagonal'], 'version': 'le90'}, {'type': 'Normalize', 'mean': [21.55, 21.55, 21.55], 'std': [24.42, 24.42, 24.42], 'to_rgb': True}, {'type': 'Pad', 'size_divisor': 32}, {'type': 'DefaultFormatBundle'}, {'type': 'Collect', 'keys': ['img', 'gt_bboxes', 'gt_labels']}], 'version': 'le90'}, 'val': {'type': 'SARDataset', 'ann_file': 'data/ssdd/test/inshore/labelTxt/', 'img_prefix': 'data/ssdd/test/inshore/images/', 'pipeline': [{'type': 'LoadImageFromFile'}, {'type': 'MultiScaleFlipAug', 'img_scale': (608, 608), 'flip': False, 'transforms': [{'type': 'RResize'}, {'type': 'Normalize', 'mean': [123.675, 116.28, 103.53], 'std': [58.395, 57.12, 57.375], 'to_rgb': True}, {'type': 'Pad', 'size_divisor': 32}, {'type': 'DefaultFormatBundle'}, {'type': 'Collect', 'keys': ['img']}]}], 'version': 'le90'}, 'test': {'type': 'SARDataset', 'ann_file': 'data/ssdd/test/offshore/labelTxt/', 'img_prefix': 'data/ssdd/test/offshore/images/', 'pipeline': [{'type': 'LoadImageFromFile'}, {'type': 'MultiScaleFlipAug', 'img_scale': (608, 608), 'flip': False, 'transforms': [{'type': 'RResize'}, {'type': 'Normalize', 'mean': [123.675, 116.28, 103.53], 'std': [58.395, 57.12, 57.375], 'to_rgb': True}, {'type': 'Pad', 'size_divisor': 32}, {'type': 'DefaultFormatBundle'}, {'type': 'Collect', 'keys': ['img']}]}], 'version': 'le90'}}, 'evaluation': {'interval': 72, 'metric': 'mAP'}, 'optimizer': {'type': 'SGD', 'lr': 0.005, 'momentum': 0.9, 'weight_decay': 0.0001}, 'optimizer_config': {'grad_clip': {'max_norm': 35, 'norm_type': 2}}, 'lr_config': {'policy': 'step', 'warmup': 'linear', 'warmup_iters': 500, 'warmup_ratio': 0.3333333333333333, 'step': [65, 71]}, 'runner': {'type': 'EpochBasedRunner', 'max_epochs': 72}, 'checkpoint_config': {'interval': 12}, 'log_config': {'interval': 50, 'hooks': [{'type': 'TextLoggerHook'}]}, 'dist_params': {'backend': 'nccl'}, 'log_level': 'INFO', 'load_from': None, 'resume_from': None, 'workflow': [('train', 1)], 'opencv_num_threads': 0, 'mp_start_method': 'fork', 'angle_version': 'le90', 'model': {'type': 'OrientedRCNN', 'backbone': {'type': 'ResNet', 'depth': 50, 'num_stages': 4, 'out_indices': (0, 1, 2, 3), 'frozen_stages': -1, 'norm_cfg': {'type': 'BN', 'requires_grad': True}, 'norm_eval': True, 'style': 'pytorch', 'init_cfg': {'type': 'Pretrained', 'checkpoint': 'torchvision://resnet50'}}, 'neck': {'type': 'FPN', 'in_channels': [256, 512, 1024, 2048], 'out_channels': 256, 'num_outs': 5}, 'rpn_head': {'type': 'OrientedRPNHead', 'in_channels': 256, 'feat_channels': 256, 'version': 'le90', 'anchor_generator': {'type': 'AnchorGenerator', 'scales': [8], 'ratios': [0.5, 1.0, 2.0], 'strides': [4, 8, 16, 32, 64]}, 'bbox_coder': {'type': 'MidpointOffsetCoder', 'angle_range': 'le90', 'target_means': [0.0, 0.0, 0.0, 0.0, 0.0, 0.0], 'target_stds': [1.0, 1.0, 1.0, 1.0, 0.5, 0.5]}, 'loss_cls': {'type': 'CrossEntropyLoss', 'use_sigmoid': True, 'loss_weight': 1.0}, 'loss_bbox': {'type': 'SmoothL1Loss', 'beta': 0.1111111111111111, 'loss_weight': 1.0}}, 'roi_head': {'type': 'OrientedStandardRoIHead', 'bbox_roi_extractor': {'type': 'RotatedSingleRoIExtractor', 'roi_layer': {'type': 'RoIAlignRotated', 'out_size': 7, 'sample_num': 2, 'clockwise': True}, 'out_channels': 256, 'featmap_strides': [4, 8, 16, 32]}, 'bbox_head': {'type': 'RotatedShared2FCBBoxHead', 'in_channels': 256, 'fc_out_channels': 1024, 'roi_feat_size': 7, 'num_classes': 1, 'bbox_coder': {'type': 'DeltaXYWHAOBBoxCoder', 'angle_range': 'le90', 'norm_factor': None, 'edge_swap': True, 'proj_xy': True, 'target_means': (0.0, 0.0, 0.0, 0.0, 0.0), 'target_stds': (0.1, 0.1, 0.2, 0.2, 0.1)}, 'reg_class_agnostic': True, 'loss_cls': {'type': 'CrossEntropyLoss', 'use_sigmoid': False, 'loss_weight': 1.0}, 'loss_bbox': {'type': 'SmoothL1Loss', 'beta': 1.0, 'loss_weight': 1.0}}}, 'train_cfg': {'rpn': {'assigner': {'type': 'MaxIoUAssigner', 'pos_iou_thr': 0.7, 'neg_iou_thr': 0.3, 'min_pos_iou': 0.3, 'match_low_quality': True, 'ignore_iof_thr': -1}, 'sampler': {'type': 'RandomSampler', 'num': 256, 'pos_fraction': 0.5, 'neg_pos_ub': -1, 'add_gt_as_proposals': False}, 'allowed_border': 0, 'pos_weight': -1, 'debug': False}, 'rpn_proposal': {'nms_pre': 2000, 'max_per_img': 2000, 'nms': {'type': 'nms', 'iou_threshold': 0.8}, 'min_bbox_size': 0}, 'rcnn': {'assigner': {'type': 'MaxIoUAssigner', 'pos_iou_thr': 0.5, 'neg_iou_thr': 0.5, 'min_pos_iou': 0.5, 'match_low_quality': False, 'iou_calculator': {'type': 'RBboxOverlaps2D'}, 'ignore_iof_thr': -1}, 'sampler': {'type': 'RRandomSampler', 'num': 512, 'pos_fraction': 0.25, 'neg_pos_ub': -1, 'add_gt_as_proposals': True}, 'pos_weight': -1, 'debug': False}}, 'test_cfg': {'rpn': {'nms_pre': 2000, 'max_per_img': 2000, 'nms': {'type': 'nms', 'iou_threshold': 0.8}, 'min_bbox_size': 0}, 'rcnn': {'nms_pre': 2000, 'min_bbox_size': 0, 'score_thr': 0.05, 'nms': {'iou_thr': 0.1}, 'max_per_img': 2000}}}}\n",
      "oriented_rcnn_r50_fpn_fp16_1x_dota_le90 Config (path: ./configs\\oriented_rcnn\\oriented_rcnn_r50_fpn_fp16_1x_dota_le90.py): {'dataset_type': 'DOTADataset', 'data_root': 'data/split_ss_dota/', 'img_norm_cfg': {'mean': [123.675, 116.28, 103.53], 'std': [58.395, 57.12, 57.375], 'to_rgb': True}, 'train_pipeline': [{'type': 'LoadImageFromFile'}, {'type': 'LoadAnnotations', 'with_bbox': True}, {'type': 'RResize', 'img_scale': (1024, 1024)}, {'type': 'RRandomFlip', 'flip_ratio': [0.25, 0.25, 0.25], 'direction': ['horizontal', 'vertical', 'diagonal'], 'version': 'le90'}, {'type': 'Normalize', 'mean': [123.675, 116.28, 103.53], 'std': [58.395, 57.12, 57.375], 'to_rgb': True}, {'type': 'Pad', 'size_divisor': 32}, {'type': 'DefaultFormatBundle'}, {'type': 'Collect', 'keys': ['img', 'gt_bboxes', 'gt_labels']}], 'test_pipeline': [{'type': 'LoadImageFromFile'}, {'type': 'MultiScaleFlipAug', 'img_scale': (1024, 1024), 'flip': False, 'transforms': [{'type': 'RResize'}, {'type': 'Normalize', 'mean': [123.675, 116.28, 103.53], 'std': [58.395, 57.12, 57.375], 'to_rgb': True}, {'type': 'Pad', 'size_divisor': 32}, {'type': 'DefaultFormatBundle'}, {'type': 'Collect', 'keys': ['img']}]}], 'data': {'samples_per_gpu': 2, 'workers_per_gpu': 2, 'train': {'type': 'DOTADataset', 'ann_file': 'data/split_ss_dota/trainval/annfiles/', 'img_prefix': 'data/split_ss_dota/trainval/images/', 'pipeline': [{'type': 'LoadImageFromFile'}, {'type': 'LoadAnnotations', 'with_bbox': True}, {'type': 'RResize', 'img_scale': (1024, 1024)}, {'type': 'RRandomFlip', 'flip_ratio': [0.25, 0.25, 0.25], 'direction': ['horizontal', 'vertical', 'diagonal'], 'version': 'le90'}, {'type': 'Normalize', 'mean': [123.675, 116.28, 103.53], 'std': [58.395, 57.12, 57.375], 'to_rgb': True}, {'type': 'Pad', 'size_divisor': 32}, {'type': 'DefaultFormatBundle'}, {'type': 'Collect', 'keys': ['img', 'gt_bboxes', 'gt_labels']}], 'version': 'le90'}, 'val': {'type': 'DOTADataset', 'ann_file': 'data/split_ss_dota/trainval/annfiles/', 'img_prefix': 'data/split_ss_dota/trainval/images/', 'pipeline': [{'type': 'LoadImageFromFile'}, {'type': 'MultiScaleFlipAug', 'img_scale': (1024, 1024), 'flip': False, 'transforms': [{'type': 'RResize'}, {'type': 'Normalize', 'mean': [123.675, 116.28, 103.53], 'std': [58.395, 57.12, 57.375], 'to_rgb': True}, {'type': 'Pad', 'size_divisor': 32}, {'type': 'DefaultFormatBundle'}, {'type': 'Collect', 'keys': ['img']}]}], 'version': 'le90'}, 'test': {'type': 'DOTADataset', 'ann_file': 'data/split_ss_dota/test/images/', 'img_prefix': 'data/split_ss_dota/test/images/', 'pipeline': [{'type': 'LoadImageFromFile'}, {'type': 'MultiScaleFlipAug', 'img_scale': (1024, 1024), 'flip': False, 'transforms': [{'type': 'RResize'}, {'type': 'Normalize', 'mean': [123.675, 116.28, 103.53], 'std': [58.395, 57.12, 57.375], 'to_rgb': True}, {'type': 'Pad', 'size_divisor': 32}, {'type': 'DefaultFormatBundle'}, {'type': 'Collect', 'keys': ['img']}]}], 'version': 'le90'}}, 'evaluation': {'interval': 4, 'metric': 'mAP'}, 'optimizer': {'type': 'SGD', 'lr': 0.005, 'momentum': 0.9, 'weight_decay': 0.0001}, 'optimizer_config': {'grad_clip': {'max_norm': 35, 'norm_type': 2}}, 'lr_config': {'policy': 'step', 'warmup': 'linear', 'warmup_iters': 500, 'warmup_ratio': 0.3333333333333333, 'step': [8, 11]}, 'runner': {'type': 'EpochBasedRunner', 'max_epochs': 12}, 'checkpoint_config': {'interval': 4}, 'log_config': {'interval': 50, 'hooks': [{'type': 'TextLoggerHook'}]}, 'dist_params': {'backend': 'nccl'}, 'log_level': 'INFO', 'load_from': None, 'resume_from': None, 'workflow': [('train', 1)], 'opencv_num_threads': 0, 'mp_start_method': 'fork', 'angle_version': 'le90', 'model': {'type': 'OrientedRCNN', 'backbone': {'type': 'ResNet', 'depth': 50, 'num_stages': 4, 'out_indices': (0, 1, 2, 3), 'frozen_stages': 1, 'norm_cfg': {'type': 'BN', 'requires_grad': True}, 'norm_eval': True, 'style': 'pytorch', 'init_cfg': {'type': 'Pretrained', 'checkpoint': 'torchvision://resnet50'}}, 'neck': {'type': 'FPN', 'in_channels': [256, 512, 1024, 2048], 'out_channels': 256, 'num_outs': 5}, 'rpn_head': {'type': 'OrientedRPNHead', 'in_channels': 256, 'feat_channels': 256, 'version': 'le90', 'anchor_generator': {'type': 'AnchorGenerator', 'scales': [8], 'ratios': [0.5, 1.0, 2.0], 'strides': [4, 8, 16, 32, 64]}, 'bbox_coder': {'type': 'MidpointOffsetCoder', 'angle_range': 'le90', 'target_means': [0.0, 0.0, 0.0, 0.0, 0.0, 0.0], 'target_stds': [1.0, 1.0, 1.0, 1.0, 0.5, 0.5]}, 'loss_cls': {'type': 'CrossEntropyLoss', 'use_sigmoid': True, 'loss_weight': 1.0}, 'loss_bbox': {'type': 'SmoothL1Loss', 'beta': 0.1111111111111111, 'loss_weight': 1.0}}, 'roi_head': {'type': 'OrientedStandardRoIHead', 'bbox_roi_extractor': {'type': 'RotatedSingleRoIExtractor', 'roi_layer': {'type': 'RoIAlignRotated', 'out_size': 7, 'sample_num': 2, 'clockwise': True}, 'out_channels': 256, 'featmap_strides': [4, 8, 16, 32]}, 'bbox_head': {'type': 'RotatedShared2FCBBoxHead', 'in_channels': 256, 'fc_out_channels': 1024, 'roi_feat_size': 7, 'num_classes': 15, 'bbox_coder': {'type': 'DeltaXYWHAOBBoxCoder', 'angle_range': 'le90', 'norm_factor': None, 'edge_swap': True, 'proj_xy': True, 'target_means': (0.0, 0.0, 0.0, 0.0, 0.0), 'target_stds': (0.1, 0.1, 0.2, 0.2, 0.1)}, 'reg_class_agnostic': True, 'loss_cls': {'type': 'CrossEntropyLoss', 'use_sigmoid': False, 'loss_weight': 1.0}, 'loss_bbox': {'type': 'SmoothL1Loss', 'beta': 1.0, 'loss_weight': 1.0}}}, 'train_cfg': {'rpn': {'assigner': {'type': 'MaxIoUAssigner', 'pos_iou_thr': 0.7, 'neg_iou_thr': 0.3, 'min_pos_iou': 0.3, 'match_low_quality': True, 'ignore_iof_thr': -1}, 'sampler': {'type': 'RandomSampler', 'num': 256, 'pos_fraction': 0.5, 'neg_pos_ub': -1, 'add_gt_as_proposals': False}, 'allowed_border': 0, 'pos_weight': -1, 'debug': False}, 'rpn_proposal': {'nms_pre': 2000, 'max_per_img': 2000, 'nms': {'type': 'nms', 'iou_threshold': 0.8}, 'min_bbox_size': 0}, 'rcnn': {'assigner': {'type': 'MaxIoUAssigner', 'pos_iou_thr': 0.5, 'neg_iou_thr': 0.5, 'min_pos_iou': 0.5, 'match_low_quality': False, 'iou_calculator': {'type': 'RBboxOverlaps2D'}, 'ignore_iof_thr': -1}, 'sampler': {'type': 'RRandomSampler', 'num': 512, 'pos_fraction': 0.25, 'neg_pos_ub': -1, 'add_gt_as_proposals': True}, 'pos_weight': -1, 'debug': False}}, 'test_cfg': {'rpn': {'nms_pre': 2000, 'max_per_img': 2000, 'nms': {'type': 'nms', 'iou_threshold': 0.8}, 'min_bbox_size': 0}, 'rcnn': {'nms_pre': 2000, 'min_bbox_size': 0, 'score_thr': 0.05, 'nms': {'iou_thr': 0.1}, 'max_per_img': 2000}}}, 'fp16': {'loss_scale': 'dynamic'}}\n",
      "oriented_rcnn_swin_tiny_fpn_1x_dota_le90 Config (path: ./configs\\oriented_rcnn\\oriented_rcnn_swin_tiny_fpn_1x_dota_le90.py): {'dataset_type': 'DOTADataset', 'data_root': 'data/split_ss_dota/', 'img_norm_cfg': {'mean': [123.675, 116.28, 103.53], 'std': [58.395, 57.12, 57.375], 'to_rgb': True}, 'train_pipeline': [{'type': 'LoadImageFromFile'}, {'type': 'LoadAnnotations', 'with_bbox': True}, {'type': 'RResize', 'img_scale': (1024, 1024)}, {'type': 'RRandomFlip', 'flip_ratio': [0.25, 0.25, 0.25], 'direction': ['horizontal', 'vertical', 'diagonal'], 'version': 'le90'}, {'type': 'Normalize', 'mean': [123.675, 116.28, 103.53], 'std': [58.395, 57.12, 57.375], 'to_rgb': True}, {'type': 'Pad', 'size_divisor': 32}, {'type': 'DefaultFormatBundle'}, {'type': 'Collect', 'keys': ['img', 'gt_bboxes', 'gt_labels']}], 'test_pipeline': [{'type': 'LoadImageFromFile'}, {'type': 'MultiScaleFlipAug', 'img_scale': (1024, 1024), 'flip': False, 'transforms': [{'type': 'RResize'}, {'type': 'Normalize', 'mean': [123.675, 116.28, 103.53], 'std': [58.395, 57.12, 57.375], 'to_rgb': True}, {'type': 'Pad', 'size_divisor': 32}, {'type': 'DefaultFormatBundle'}, {'type': 'Collect', 'keys': ['img']}]}], 'data': {'samples_per_gpu': 2, 'workers_per_gpu': 2, 'train': {'type': 'DOTADataset', 'ann_file': 'data/split_ss_dota/trainval/annfiles/', 'img_prefix': 'data/split_ss_dota/trainval/images/', 'pipeline': [{'type': 'LoadImageFromFile'}, {'type': 'LoadAnnotations', 'with_bbox': True}, {'type': 'RResize', 'img_scale': (1024, 1024)}, {'type': 'RRandomFlip', 'flip_ratio': [0.25, 0.25, 0.25], 'direction': ['horizontal', 'vertical', 'diagonal'], 'version': 'le90'}, {'type': 'Normalize', 'mean': [123.675, 116.28, 103.53], 'std': [58.395, 57.12, 57.375], 'to_rgb': True}, {'type': 'Pad', 'size_divisor': 32}, {'type': 'DefaultFormatBundle'}, {'type': 'Collect', 'keys': ['img', 'gt_bboxes', 'gt_labels']}], 'version': 'le90'}, 'val': {'type': 'DOTADataset', 'ann_file': 'data/split_ss_dota/trainval/annfiles/', 'img_prefix': 'data/split_ss_dota/trainval/images/', 'pipeline': [{'type': 'LoadImageFromFile'}, {'type': 'MultiScaleFlipAug', 'img_scale': (1024, 1024), 'flip': False, 'transforms': [{'type': 'RResize'}, {'type': 'Normalize', 'mean': [123.675, 116.28, 103.53], 'std': [58.395, 57.12, 57.375], 'to_rgb': True}, {'type': 'Pad', 'size_divisor': 32}, {'type': 'DefaultFormatBundle'}, {'type': 'Collect', 'keys': ['img']}]}], 'version': 'le90'}, 'test': {'type': 'DOTADataset', 'ann_file': 'data/split_ss_dota/test/images/', 'img_prefix': 'data/split_ss_dota/test/images/', 'pipeline': [{'type': 'LoadImageFromFile'}, {'type': 'MultiScaleFlipAug', 'img_scale': (1024, 1024), 'flip': False, 'transforms': [{'type': 'RResize'}, {'type': 'Normalize', 'mean': [123.675, 116.28, 103.53], 'std': [58.395, 57.12, 57.375], 'to_rgb': True}, {'type': 'Pad', 'size_divisor': 32}, {'type': 'DefaultFormatBundle'}, {'type': 'Collect', 'keys': ['img']}]}], 'version': 'le90'}}, 'evaluation': {'interval': 4, 'metric': 'mAP'}, 'optimizer': {'type': 'AdamW', 'lr': 0.0001, 'betas': (0.9, 0.999), 'weight_decay': 0.05, 'paramwise_cfg': {'custom_keys': {'absolute_pos_embed': {'decay_mult': 0.0}, 'relative_position_bias_table': {'decay_mult': 0.0}, 'norm': {'decay_mult': 0.0}}}}, 'optimizer_config': {'grad_clip': {'max_norm': 35, 'norm_type': 2}}, 'lr_config': {'policy': 'step', 'warmup': 'linear', 'warmup_iters': 500, 'warmup_ratio': 0.3333333333333333, 'step': [8, 11]}, 'runner': {'type': 'EpochBasedRunner', 'max_epochs': 12}, 'checkpoint_config': {'interval': 4}, 'log_config': {'interval': 50, 'hooks': [{'type': 'TextLoggerHook'}]}, 'dist_params': {'backend': 'nccl'}, 'log_level': 'INFO', 'load_from': None, 'resume_from': None, 'workflow': [('train', 1)], 'opencv_num_threads': 0, 'mp_start_method': 'fork', 'angle_version': 'le90', 'model': {'type': 'OrientedRCNN', 'backbone': {'type': 'SwinTransformer', 'embed_dims': 96, 'depths': [2, 2, 6, 2], 'num_heads': [3, 6, 12, 24], 'window_size': 7, 'mlp_ratio': 4, 'qkv_bias': True, 'qk_scale': None, 'drop_rate': 0.0, 'attn_drop_rate': 0.0, 'drop_path_rate': 0.2, 'patch_norm': True, 'out_indices': (0, 1, 2, 3), 'with_cp': False, 'convert_weights': True, 'init_cfg': {'type': 'Pretrained', 'checkpoint': 'https://github.com/SwinTransformer/storage/releases/download/v1.0.0/swin_tiny_patch4_window7_224.pth'}}, 'neck': {'type': 'FPN', 'in_channels': [96, 192, 384, 768], 'out_channels': 256, 'num_outs': 5}, 'rpn_head': {'type': 'OrientedRPNHead', 'in_channels': 256, 'feat_channels': 256, 'version': 'le90', 'anchor_generator': {'type': 'AnchorGenerator', 'scales': [8], 'ratios': [0.5, 1.0, 2.0], 'strides': [4, 8, 16, 32, 64]}, 'bbox_coder': {'type': 'MidpointOffsetCoder', 'angle_range': 'le90', 'target_means': [0.0, 0.0, 0.0, 0.0, 0.0, 0.0], 'target_stds': [1.0, 1.0, 1.0, 1.0, 0.5, 0.5]}, 'loss_cls': {'type': 'CrossEntropyLoss', 'use_sigmoid': True, 'loss_weight': 1.0}, 'loss_bbox': {'type': 'SmoothL1Loss', 'beta': 0.1111111111111111, 'loss_weight': 1.0}}, 'roi_head': {'type': 'OrientedStandardRoIHead', 'bbox_roi_extractor': {'type': 'RotatedSingleRoIExtractor', 'roi_layer': {'type': 'RoIAlignRotated', 'out_size': 7, 'sample_num': 2, 'clockwise': True}, 'out_channels': 256, 'featmap_strides': [4, 8, 16, 32]}, 'bbox_head': {'type': 'RotatedShared2FCBBoxHead', 'in_channels': 256, 'fc_out_channels': 1024, 'roi_feat_size': 7, 'num_classes': 15, 'bbox_coder': {'type': 'DeltaXYWHAOBBoxCoder', 'angle_range': 'le90', 'norm_factor': None, 'edge_swap': True, 'proj_xy': True, 'target_means': (0.0, 0.0, 0.0, 0.0, 0.0), 'target_stds': (0.1, 0.1, 0.2, 0.2, 0.1)}, 'reg_class_agnostic': True, 'loss_cls': {'type': 'CrossEntropyLoss', 'use_sigmoid': False, 'loss_weight': 1.0}, 'loss_bbox': {'type': 'SmoothL1Loss', 'beta': 1.0, 'loss_weight': 1.0}}}, 'train_cfg': {'rpn': {'assigner': {'type': 'MaxIoUAssigner', 'pos_iou_thr': 0.7, 'neg_iou_thr': 0.3, 'min_pos_iou': 0.3, 'match_low_quality': True, 'ignore_iof_thr': -1}, 'sampler': {'type': 'RandomSampler', 'num': 256, 'pos_fraction': 0.5, 'neg_pos_ub': -1, 'add_gt_as_proposals': False}, 'allowed_border': 0, 'pos_weight': -1, 'debug': False}, 'rpn_proposal': {'nms_pre': 2000, 'max_per_img': 2000, 'nms': {'type': 'nms', 'iou_threshold': 0.8}, 'min_bbox_size': 0}, 'rcnn': {'assigner': {'type': 'MaxIoUAssigner', 'pos_iou_thr': 0.5, 'neg_iou_thr': 0.5, 'min_pos_iou': 0.5, 'match_low_quality': False, 'iou_calculator': {'type': 'RBboxOverlaps2D'}, 'ignore_iof_thr': -1}, 'sampler': {'type': 'RRandomSampler', 'num': 512, 'pos_fraction': 0.25, 'neg_pos_ub': -1, 'add_gt_as_proposals': True}, 'pos_weight': -1, 'debug': False}}, 'test_cfg': {'rpn': {'nms_pre': 2000, 'max_per_img': 2000, 'nms': {'type': 'nms', 'iou_threshold': 0.8}, 'min_bbox_size': 0}, 'rcnn': {'nms_pre': 2000, 'min_bbox_size': 0, 'score_thr': 0.05, 'nms': {'iou_thr': 0.1}, 'max_per_img': 2000}}}, 'pretrained': 'https://github.com/SwinTransformer/storage/releases/download/v1.0.0/swin_tiny_patch4_window7_224.pth'}\n"
     ]
    }
   ],
   "source": [
    "# get the config files and transfer \n",
    "conf_oriented_rcnn = configs['oriented_rcnn']\n",
    "\n",
    "# conf_oriented_rcnn = [mmcv.Config.fromfile(i) for i in conf_oriented_rcnn]\n",
    "model_dicts_oriented_rcnn = {os.path.split(i)[-1].strip('.py') : mmcv.Config.fromfile(i) for i in conf_oriented_rcnn}\n",
    "for model, model_dict in model_dicts_oriented_rcnn.items():\n",
    "    print(model, model_dict)\n",
    "\n",
    "# get the dict and dynamically gen config configuration file\n",
    "model_dict = model_dicts_oriented_rcnn['oriented_rcnn_r50_fpn_1x_dota_le90']"
   ]
  },
  {
   "cell_type": "code",
   "execution_count": 33,
   "metadata": {},
   "outputs": [
    {
     "name": "stdout",
     "output_type": "stream",
     "text": [
      "dataset_type DOTADataset\n",
      "data_root data/split_ss_dota/\n",
      "img_norm_cfg {'mean': [123.675, 116.28, 103.53], 'std': [58.395, 57.12, 57.375], 'to_rgb': True}\n",
      "train_pipeline [{'type': 'LoadImageFromFile'}, {'type': 'LoadAnnotations', 'with_bbox': True}, {'type': 'RResize', 'img_scale': (1024, 1024)}, {'type': 'RRandomFlip', 'flip_ratio': [0.25, 0.25, 0.25], 'direction': ['horizontal', 'vertical', 'diagonal'], 'version': 'le90'}, {'type': 'Normalize', 'mean': [123.675, 116.28, 103.53], 'std': [58.395, 57.12, 57.375], 'to_rgb': True}, {'type': 'Pad', 'size_divisor': 32}, {'type': 'DefaultFormatBundle'}, {'type': 'Collect', 'keys': ['img', 'gt_bboxes', 'gt_labels']}]\n",
      "test_pipeline [{'type': 'LoadImageFromFile'}, {'type': 'MultiScaleFlipAug', 'img_scale': (1024, 1024), 'flip': False, 'transforms': [{'type': 'RResize'}, {'type': 'Normalize', 'mean': [123.675, 116.28, 103.53], 'std': [58.395, 57.12, 57.375], 'to_rgb': True}, {'type': 'Pad', 'size_divisor': 32}, {'type': 'DefaultFormatBundle'}, {'type': 'Collect', 'keys': ['img']}]}]\n",
      "data {'samples_per_gpu': 2, 'workers_per_gpu': 2, 'train': {'type': 'DOTADataset', 'ann_file': 'data/split_ss_dota/trainval/annfiles/', 'img_prefix': 'data/split_ss_dota/trainval/images/', 'pipeline': [{'type': 'LoadImageFromFile'}, {'type': 'LoadAnnotations', 'with_bbox': True}, {'type': 'RResize', 'img_scale': (1024, 1024)}, {'type': 'RRandomFlip', 'flip_ratio': [0.25, 0.25, 0.25], 'direction': ['horizontal', 'vertical', 'diagonal'], 'version': 'le90'}, {'type': 'Normalize', 'mean': [123.675, 116.28, 103.53], 'std': [58.395, 57.12, 57.375], 'to_rgb': True}, {'type': 'Pad', 'size_divisor': 32}, {'type': 'DefaultFormatBundle'}, {'type': 'Collect', 'keys': ['img', 'gt_bboxes', 'gt_labels']}], 'version': 'le90'}, 'val': {'type': 'DOTADataset', 'ann_file': 'data/split_ss_dota/trainval/annfiles/', 'img_prefix': 'data/split_ss_dota/trainval/images/', 'pipeline': [{'type': 'LoadImageFromFile'}, {'type': 'MultiScaleFlipAug', 'img_scale': (1024, 1024), 'flip': False, 'transforms': [{'type': 'RResize'}, {'type': 'Normalize', 'mean': [123.675, 116.28, 103.53], 'std': [58.395, 57.12, 57.375], 'to_rgb': True}, {'type': 'Pad', 'size_divisor': 32}, {'type': 'DefaultFormatBundle'}, {'type': 'Collect', 'keys': ['img']}]}], 'version': 'le90'}, 'test': {'type': 'DOTADataset', 'ann_file': 'data/split_ss_dota/test/images/', 'img_prefix': 'data/split_ss_dota/test/images/', 'pipeline': [{'type': 'LoadImageFromFile'}, {'type': 'MultiScaleFlipAug', 'img_scale': (1024, 1024), 'flip': False, 'transforms': [{'type': 'RResize'}, {'type': 'Normalize', 'mean': [123.675, 116.28, 103.53], 'std': [58.395, 57.12, 57.375], 'to_rgb': True}, {'type': 'Pad', 'size_divisor': 32}, {'type': 'DefaultFormatBundle'}, {'type': 'Collect', 'keys': ['img']}]}], 'version': 'le90'}}\n",
      "evaluation {'interval': 4, 'metric': 'mAP'}\n",
      "optimizer {'type': 'SGD', 'lr': 0.005, 'momentum': 0.9, 'weight_decay': 0.0001}\n",
      "optimizer_config {'grad_clip': {'max_norm': 35, 'norm_type': 2}}\n",
      "lr_config {'policy': 'step', 'warmup': 'linear', 'warmup_iters': 500, 'warmup_ratio': 0.3333333333333333, 'step': [8, 11]}\n",
      "runner {'type': 'EpochBasedRunner', 'max_epochs': 12}\n",
      "checkpoint_config {'interval': 4}\n",
      "log_config {'interval': 50, 'hooks': [{'type': 'TextLoggerHook'}]}\n",
      "dist_params {'backend': 'nccl'}\n",
      "log_level INFO\n",
      "load_from None\n",
      "resume_from None\n",
      "workflow [('train', 1)]\n",
      "opencv_num_threads 0\n",
      "mp_start_method fork\n",
      "angle_version le90\n",
      "model {'type': 'OrientedRCNN', 'backbone': {'type': 'ResNet', 'depth': 50, 'num_stages': 4, 'out_indices': (0, 1, 2, 3), 'frozen_stages': 1, 'norm_cfg': {'type': 'BN', 'requires_grad': True}, 'norm_eval': True, 'style': 'pytorch', 'init_cfg': {'type': 'Pretrained', 'checkpoint': 'torchvision://resnet50'}}, 'neck': {'type': 'FPN', 'in_channels': [256, 512, 1024, 2048], 'out_channels': 256, 'num_outs': 5}, 'rpn_head': {'type': 'OrientedRPNHead', 'in_channels': 256, 'feat_channels': 256, 'version': 'le90', 'anchor_generator': {'type': 'AnchorGenerator', 'scales': [8], 'ratios': [0.5, 1.0, 2.0], 'strides': [4, 8, 16, 32, 64]}, 'bbox_coder': {'type': 'MidpointOffsetCoder', 'angle_range': 'le90', 'target_means': [0.0, 0.0, 0.0, 0.0, 0.0, 0.0], 'target_stds': [1.0, 1.0, 1.0, 1.0, 0.5, 0.5]}, 'loss_cls': {'type': 'CrossEntropyLoss', 'use_sigmoid': True, 'loss_weight': 1.0}, 'loss_bbox': {'type': 'SmoothL1Loss', 'beta': 0.1111111111111111, 'loss_weight': 1.0}}, 'roi_head': {'type': 'OrientedStandardRoIHead', 'bbox_roi_extractor': {'type': 'RotatedSingleRoIExtractor', 'roi_layer': {'type': 'RoIAlignRotated', 'out_size': 7, 'sample_num': 2, 'clockwise': True}, 'out_channels': 256, 'featmap_strides': [4, 8, 16, 32]}, 'bbox_head': {'type': 'RotatedShared2FCBBoxHead', 'in_channels': 256, 'fc_out_channels': 1024, 'roi_feat_size': 7, 'num_classes': 15, 'bbox_coder': {'type': 'DeltaXYWHAOBBoxCoder', 'angle_range': 'le90', 'norm_factor': None, 'edge_swap': True, 'proj_xy': True, 'target_means': (0.0, 0.0, 0.0, 0.0, 0.0), 'target_stds': (0.1, 0.1, 0.2, 0.2, 0.1)}, 'reg_class_agnostic': True, 'loss_cls': {'type': 'CrossEntropyLoss', 'use_sigmoid': False, 'loss_weight': 1.0}, 'loss_bbox': {'type': 'SmoothL1Loss', 'beta': 1.0, 'loss_weight': 1.0}}}, 'train_cfg': {'rpn': {'assigner': {'type': 'MaxIoUAssigner', 'pos_iou_thr': 0.7, 'neg_iou_thr': 0.3, 'min_pos_iou': 0.3, 'match_low_quality': True, 'ignore_iof_thr': -1}, 'sampler': {'type': 'RandomSampler', 'num': 256, 'pos_fraction': 0.5, 'neg_pos_ub': -1, 'add_gt_as_proposals': False}, 'allowed_border': 0, 'pos_weight': -1, 'debug': False}, 'rpn_proposal': {'nms_pre': 2000, 'max_per_img': 2000, 'nms': {'type': 'nms', 'iou_threshold': 0.8}, 'min_bbox_size': 0}, 'rcnn': {'assigner': {'type': 'MaxIoUAssigner', 'pos_iou_thr': 0.5, 'neg_iou_thr': 0.5, 'min_pos_iou': 0.5, 'match_low_quality': False, 'iou_calculator': {'type': 'RBboxOverlaps2D'}, 'ignore_iof_thr': -1}, 'sampler': {'type': 'RRandomSampler', 'num': 512, 'pos_fraction': 0.25, 'neg_pos_ub': -1, 'add_gt_as_proposals': True}, 'pos_weight': -1, 'debug': False}}, 'test_cfg': {'rpn': {'nms_pre': 2000, 'max_per_img': 2000, 'nms': {'type': 'nms', 'iou_threshold': 0.8}, 'min_bbox_size': 0}, 'rcnn': {'nms_pre': 2000, 'min_bbox_size': 0, 'score_thr': 0.05, 'nms': {'iou_thr': 0.1}, 'max_per_img': 2000}}}\n"
     ]
    }
   ],
   "source": [
    "# dump the file into a config file\n",
    "model_dict.dump('./config_test.py')\n",
    "\n",
    "# let's just think about how to make an abstract interface for changing the config\n",
    "for i, j in model_dict.items():\n",
    "    print(i, j)"
   ]
  },
  {
   "cell_type": "code",
   "execution_count": 41,
   "metadata": {},
   "outputs": [
    {
     "name": "stdout",
     "output_type": "stream",
     "text": [
      "Running on local URL:  http://127.0.0.1:7862\n",
      "\n",
      "To create a public link, set `share=True` in `launch()`.\n"
     ]
    },
    {
     "data": {
      "text/html": [
       "<div><iframe src=\"http://127.0.0.1:7862/\" width=\"100%\" height=\"500\" allow=\"autoplay; camera; microphone; clipboard-read; clipboard-write;\" frameborder=\"0\" allowfullscreen></iframe></div>"
      ],
      "text/plain": [
       "<IPython.core.display.HTML object>"
      ]
     },
     "metadata": {},
     "output_type": "display_data"
    },
    {
     "data": {
      "text/plain": []
     },
     "execution_count": 41,
     "metadata": {},
     "output_type": "execute_result"
    }
   ],
   "source": [
    "# the solution to dynamically rendering the components\n",
    "\"\"\"\n",
    "    1. the main block should have a list of all the blocks\n",
    "    2. re render components by redifining the children of the blocks\n",
    "    3. the new task  \n",
    "        1. customize a new component meant for the dict configuration\n",
    "        2. test the re-rendering of the components\n",
    "\"\"\"\n",
    "max_textboxes = 10\n",
    "\n",
    "\n",
    "def variable_outputs(k):\n",
    "    k = int(k)\n",
    "    return [gr.Textbox(visible=True)]*k + [gr.Textbox(visible=False)]*(max_textboxes-k)\n",
    "\n",
    "with gr.Blocks() as demo:\n",
    "    s = gr.Slider(1, max_textboxes, value=max_textboxes, step=1, label=\"How many textboxes to show:\")\n",
    "    textboxes = []\n",
    "    for i in range(max_textboxes):\n",
    "        t = gr.Textbox(f\"Textbox {i}\")\n",
    "        textboxes.append(t)\n",
    "\n",
    "    s.change(variable_outputs, s, textboxes)\n",
    "\n",
    "demo.launch(share=False)"
   ]
  },
  {
   "cell_type": "code",
   "execution_count": null,
   "metadata": {},
   "outputs": [],
   "source": []
  },
  {
   "cell_type": "code",
   "execution_count": null,
   "metadata": {},
   "outputs": [],
   "source": []
  }
 ],
 "metadata": {
  "kernelspec": {
   "display_name": "mmlab+gradio",
   "language": "python",
   "name": "python3"
  },
  "language_info": {
   "codemirror_mode": {
    "name": "ipython",
    "version": 3
   },
   "file_extension": ".py",
   "mimetype": "text/x-python",
   "name": "python",
   "nbconvert_exporter": "python",
   "pygments_lexer": "ipython3",
   "version": "3.8.19"
  }
 },
 "nbformat": 4,
 "nbformat_minor": 2
}
